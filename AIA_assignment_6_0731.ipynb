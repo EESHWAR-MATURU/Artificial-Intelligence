{
 "cells": [
  {
   "cell_type": "code",
   "execution_count": null,
   "metadata": {},
   "outputs": [],
   "source": [
    "# 2. Haar Cascade Object detection for Eye and Face in Python using Open CV\n",
    "import cv2\n",
    "face_cascade = cv2.CascadeClassifier('haarcascade_frontalface_default.xml')\n",
    "eye_cascade = cv2.CascadeClassifier('haarcascade_eye.xml')\n",
    "def detect_faces_and_eyes(image):\n",
    "    gray = cv2.cvtColor(image, cv2.COLOR_BGR2GRAY)\n",
    "    faces = face_cascade.detectMultiScale(\n",
    "        gray, scaleFactor=1.1, minNeighbors=5)\n",
    "    for (x, y, w, h) in faces:\n",
    "        roi_gray = gray[y:y+h, x:x+w]\n",
    "        roi_color = image[y:y+h, x:x+w]\n",
    "        eyes = eye_cascade.detectMultiScale(\n",
    "            roi_gray, scaleFactor=1.1, minNeighbors=3)\n",
    "        cv2.rectangle(image, (x, y), (x+w, y+h), (255, 0, 0), 2)\n",
    "        for (ex, ey, ew, eh) in eyes:\n",
    "            cv2.rectangle(roi_color, (ex, ey), (ex+ew, ey+eh), (0, 255, 0), 2)\n",
    "    return image\n",
    "cap = cv2.VideoCapture(0)\n",
    "\n",
    "while True:\n",
    "    ret, frame = cap.read()\n",
    "    result_frame = detect_faces_and_eyes(frame)\n",
    "    cv2.imshow('Result Frame', result_frame)\n",
    "    if cv2.waitKey(1) & 0xFF == ord('q'):\n",
    "        break\n",
    "cap.release()\n",
    "cv2.destroyAllWindows()\n"
   ]
  },
  {
   "cell_type": "code",
   "execution_count": null,
   "metadata": {},
   "outputs": [],
   "source": [
    "# 1. Teachable Machine Brain.JS In Browser Object Recognition through\n",
    "import socketio\n",
    "import base64\n",
    "import numpy as np\n",
    "import cv2\n",
    "sio = socketio.Client()\n",
    "def preprocess_image(image_data):\n",
    "    decoded_image_data = base64.b64decode(image_data)\n",
    "    image_array = np.frombuffer(decoded_image_data, dtype=np.uint8)\n",
    "    image = cv2.imdecode(image_array, cv2.IMREAD_COLOR)\n",
    "    gray = cv2.cvtColor(image, cv2.COLOR_BGR2GRAY)\n",
    "    resized_image = cv2.resize(gray, (224, 224), interpolation=cv2.INTER_AREA)\n",
    "    normalized_image = resized_image.astype(np.float32) \n",
    "    reshaped_image = np.reshape(normalized_image, (1, 224, 224, 1))\n",
    "    return reshaped_image\n",
    "@sio.on('predict')\n",
    "def on_predict(data):\n",
    "    preprocessed_image = preprocess_image(data['image'])\n",
    "    predictions = model.predict(preprocessed_image)\n",
    "    prediction_dict = {'predictions': predictions.tolist()}\n",
    "    sio.emit('prediction_result', prediction_dict)\n",
    "model = socketio.Client().socket(\"/model\")\n",
    "model.connect()\n",
    "model.emit('load')\n",
    "sio.connect('http://localhost:8000')\n",
    "sio.wait()\n"
   ]
  }
 ],
 "metadata": {
  "language_info": {
   "name": "python"
  },
  "orig_nbformat": 4
 },
 "nbformat": 4,
 "nbformat_minor": 2
}
