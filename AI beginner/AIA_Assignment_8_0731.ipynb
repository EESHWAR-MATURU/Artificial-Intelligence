{
 "cells": [
  {
   "cell_type": "code",
   "execution_count": null,
   "metadata": {},
   "outputs": [],
   "source": [
    "#Text to Speech recognition and Synthesis through APIs\n",
    "# Import the required libraries\n",
    "import speech_recognition as sr\n",
    "from gtts import gTTS\n",
    "import os\n",
    "\n",
    "# Initialize the recognizer\n",
    "r = sr.Recognizer()\n",
    "\n",
    "# Use the microphone as the audio source\n",
    "with sr.Microphone() as source:\n",
    "    print(\"Speak now...\")\n",
    "    audio = r.listen(source)\n",
    "    print(\"Recognizing...\")\n",
    "\n",
    "# Use Google's speech recognition API to recognize the audio\n",
    "try:\n",
    "    text = r.recognize_google(audio)\n",
    "    print(\"You said: {}\".format(text))\n",
    "\n",
    "    # Use gTTS to synthesize speech from the recognized text\n",
    "    tts = gTTS(text)\n",
    "    tts.save(\"output.mp3\")\n",
    "    os.system(\"mpg321 output.mp3\")\n",
    "\n",
    "except sr.UnknownValueError:\n",
    "    print(\"Sorry, I could not understand what you said.\")\n",
    "except sr.RequestError as e:\n",
    "    print(\"Could not request results from Google's speech recognition API: {}\".format(e))\n",
    "\n",
    "\n"
   ]
  }
 ],
 "metadata": {
  "language_info": {
   "name": "python"
  },
  "orig_nbformat": 4
 },
 "nbformat": 4,
 "nbformat_minor": 2
}
