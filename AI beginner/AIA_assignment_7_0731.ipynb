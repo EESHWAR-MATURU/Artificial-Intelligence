{
 "cells": [
  {
   "cell_type": "code",
   "execution_count": null,
   "metadata": {},
   "outputs": [],
   "source": [
    "#Conceptual introduction to Natural Language Processing: Speech Recognition & Synthesis: Speech Fundamentals, Speech Analysis, Speech Modelling.\n",
    "\n",
    "\n",
    "import speech_recognition as sr\n",
    "import pyttsx3\n",
    "\n",
    "\n",
    "r = sr.Recognizer()\n",
    "\n",
    "engine = pyttsx3.init()\n",
    "\n",
    "voices = engine.getProperty('voices')\n",
    "engine.setProperty('voice', voices[1].id)\n",
    "\n",
    "with sr.Microphone() as source:\n",
    "    print(\"Speak something...\")\n",
    "    audio = r.listen(source)\n",
    "\n",
    "try:\n",
    "    text = r.recognize_google(audio)\n",
    "    print(\"You said: \", text)\n",
    "except sr.UnknownValueError:\n",
    "    print(\"Sorry, I could not understand what you said.\")\n",
    "except sr.RequestError as e:\n",
    "    print(\n",
    "        \"Sorry, could not request results from Speech Recognition service; {0}\".format(e))\n",
    "\n",
    "engine.say(text)\n",
    "engine.runAndWait()\n"
   ]
  }
 ],
 "metadata": {
  "language_info": {
   "name": "python"
  },
  "orig_nbformat": 4
 },
 "nbformat": 4,
 "nbformat_minor": 2
}
