{
 "cells": [
  {
   "cell_type": "code",
   "execution_count": null,
   "metadata": {},
   "outputs": [],
   "source": [
    "import base64\n",
    "import requests\n",
    "import json\n",
    "\n",
    "# Load the image from file\n",
    "with open('image.jpg', 'rb') as f:\n",
    "    image_data = f.read()\n",
    "\n",
    "# Convert the image to base64\n",
    "base64_data = base64.b64encode(image_data).decode('utf-8')\n",
    "\n",
    "# Define the request payload\n",
    "payload = {\n",
    "    'image': base64_data\n",
    "}\n",
    "\n",
    "# Send the request to the Teachable Machine API\n",
    "response = requests.post(\n",
    "    'https://teachablemachine.withgoogle.com/models/<model-id>/predict', json=payload)\n",
    "\n",
    "# Parse the response\n",
    "predictions = json.loads(response.text)\n",
    "\n",
    "# Print the predictions\n",
    "for prediction in predictions:\n",
    "    label = prediction['className']\n",
    "    confidence = prediction['probability']\n",
    "    print(f'{label}: {confidence}')\n"
   ]
  },
  {
   "cell_type": "code",
   "execution_count": null,
   "metadata": {},
   "outputs": [],
   "source": [
    "import cv2\n",
    "\n",
    "# Load the cascades for face and eye detection\n",
    "face_cascade = cv2.CascadeClassifier('haarcascade_frontalface_default.xml')\n",
    "eye_cascade = cv2.CascadeClassifier('haarcascade_eye.xml')\n",
    "\n",
    "# Load the image to be analyzed\n",
    "img = cv2.imread('image.jpg')\n",
    "\n",
    "# Convert the image to grayscale\n",
    "gray = cv2.cvtColor(img, cv2.COLOR_BGR2GRAY)\n",
    "\n",
    "# Detect faces in the grayscale image\n",
    "faces = face_cascade.detectMultiScale(gray, scaleFactor=1.3, minNeighbors=5)\n",
    "\n",
    "# Draw rectangles around the detected faces and eyes\n",
    "for (x, y, w, h) in faces:\n",
    "    cv2.rectangle(img, (x, y), (x+w, y+h), (255, 0, 0), 2)\n",
    "    roi_gray = gray[y:y+h, x:x+w]\n",
    "    roi_color = img[y:y+h, x:x+w]\n",
    "    eyes = eye_cascade.detectMultiScale(roi_gray)\n",
    "    for (ex, ey, ew, eh) in eyes:\n",
    "        cv2.rectangle(roi_color, (ex, ey), (ex+ew, ey+eh), (0, 255, 0), 2)\n",
    "\n",
    "# Display the resulting image\n",
    "cv2.imshow('img', img)\n",
    "cv2.waitKey(0)\n",
    "cv2.destroyAllWindows()\n"
   ]
  }
 ],
 "metadata": {
  "language_info": {
   "name": "python"
  },
  "orig_nbformat": 4
 },
 "nbformat": 4,
 "nbformat_minor": 2
}
